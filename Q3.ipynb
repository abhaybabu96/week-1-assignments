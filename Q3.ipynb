{
 "cells": [
  {
   "cell_type": "code",
   "execution_count": 1,
   "id": "9bb134e8-08a5-4ea6-9205-550e3216017e",
   "metadata": {},
   "outputs": [],
   "source": [
    "# How to convert into another data type in python "
   ]
  },
  {
   "cell_type": "code",
   "execution_count": 3,
   "id": "9c1f84ca-45ff-4528-a71b-4a563fab14cc",
   "metadata": {},
   "outputs": [],
   "source": [
    "# First we have to store the value in variable , let's store int vlaue and letter convert it into sting"
   ]
  },
  {
   "cell_type": "code",
   "execution_count": 4,
   "id": "c904e716-814a-4752-847e-b80ad82cdbaf",
   "metadata": {},
   "outputs": [
    {
     "name": "stdout",
     "output_type": "stream",
     "text": [
      "108\n"
     ]
    },
    {
     "data": {
      "text/plain": [
       "int"
      ]
     },
     "execution_count": 4,
     "metadata": {},
     "output_type": "execute_result"
    }
   ],
   "source": [
    "keyboard_keys = 108\n",
    "print(keyboard_keys)\n",
    "type(keyboard_keys)"
   ]
  },
  {
   "cell_type": "code",
   "execution_count": 6,
   "id": "9f6cc66a-57d0-4f2b-b24e-59f69a326ee8",
   "metadata": {},
   "outputs": [],
   "source": [
    "# let's create another variable and and convert the value of first variable "
   ]
  },
  {
   "cell_type": "code",
   "execution_count": 8,
   "id": "608a82e5-52ef-4744-808a-ca92db91522c",
   "metadata": {},
   "outputs": [],
   "source": [
    "# synter variable_name = typeconversion(variable_name)"
   ]
  },
  {
   "cell_type": "code",
   "execution_count": 9,
   "id": "e48d264e-561a-4678-b9fc-ded57dfed434",
   "metadata": {},
   "outputs": [
    {
     "name": "stdout",
     "output_type": "stream",
     "text": [
      "108\n"
     ]
    },
    {
     "data": {
      "text/plain": [
       "str"
      ]
     },
     "execution_count": 9,
     "metadata": {},
     "output_type": "execute_result"
    }
   ],
   "source": [
    "str_keyb_keys = str(keyboard_keys)\n",
    "print(str_keyb_keys)\n",
    "type(str_keyb_keys)"
   ]
  },
  {
   "cell_type": "code",
   "execution_count": null,
   "id": "45ee05f5-3ed9-470e-ae81-1c50bc22506a",
   "metadata": {},
   "outputs": [],
   "source": []
  }
 ],
 "metadata": {
  "kernelspec": {
   "display_name": "Python 3 (ipykernel)",
   "language": "python",
   "name": "python3"
  },
  "language_info": {
   "codemirror_mode": {
    "name": "ipython",
    "version": 3
   },
   "file_extension": ".py",
   "mimetype": "text/x-python",
   "name": "python",
   "nbconvert_exporter": "python",
   "pygments_lexer": "ipython3",
   "version": "3.10.8"
  }
 },
 "nbformat": 4,
 "nbformat_minor": 5
}
