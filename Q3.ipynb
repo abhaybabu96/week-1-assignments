{
 "cells": [
  {
   "cell_type": "code",
   "execution_count": 1,
   "metadata": {},
   "outputs": [],
   "source": [
    "# Explain why the __init__() function is used. Give a suitable example."
   ]
  },
  {
   "cell_type": "code",
   "execution_count": 8,
   "metadata": {},
   "outputs": [
    {
     "name": "stdout",
     "output_type": "stream",
     "text": [
      "Shopify Themes  +  Shipify Apps\n",
      "Shopify Themes and Shipify Apps a dedly combination For a Shopify Developer\n"
     ]
    }
   ],
   "source": [
    "# Here is exapmle of __init__ \n",
    "\n",
    "class shopify() :\n",
    "    def __init__(self,shopyftheme,shopifyapps) :\n",
    "        self.Stheme = shopyftheme\n",
    "        self.Sapps = shopifyapps\n",
    "        \n",
    "\n",
    "    def printdata(self) :\n",
    "        return(f\"{self.Stheme} and {self.Sapps} a dedly combination For a Shopify Developer\")\n",
    "\n",
    "define_shopify = shopify(\"Shopify Themes\",\"Shipify Apps\")\n",
    "print(define_shopify.Stheme , \" + \" , define_shopify.Sapps )\n",
    "print(define_shopify.printdata())"
   ]
  },
  {
   "cell_type": "code",
   "execution_count": null,
   "metadata": {},
   "outputs": [],
   "source": []
  }
 ],
 "metadata": {
  "kernelspec": {
   "display_name": "Python 3",
   "language": "python",
   "name": "python3"
  },
  "language_info": {
   "codemirror_mode": {
    "name": "ipython",
    "version": 3
   },
   "file_extension": ".py",
   "mimetype": "text/x-python",
   "name": "python",
   "nbconvert_exporter": "python",
   "pygments_lexer": "ipython3",
   "version": "3.11.3"
  },
  "orig_nbformat": 4
 },
 "nbformat": 4,
 "nbformat_minor": 2
}
