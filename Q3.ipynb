{
 "cells": [
  {
   "cell_type": "code",
   "execution_count": 1,
   "id": "958969f9-1aef-4888-bd0d-410aced4d465",
   "metadata": {},
   "outputs": [],
   "source": [
    "# What is an iterator in python? Name the method used to initialise the iterator object and the method\n",
    "# used for iteration. Use these methods to print the first five elements of the given list [2, 4, 6, 8, 10, 12, 14,\n",
    "# 16, 18, 20]."
   ]
  },
  {
   "cell_type": "code",
   "execution_count": 2,
   "id": "bc3663a2-1e3d-493a-9b88-bebdc440b1e3",
   "metadata": {},
   "outputs": [],
   "source": [
    "# An iterator is an object that contains a countable number of values.\\\n",
    "# we can get the values using next() function , iterables are list, tuple , string"
   ]
  },
  {
   "cell_type": "code",
   "execution_count": 3,
   "id": "e6396cfa-a870-41f3-b180-beadbd9fe501",
   "metadata": {},
   "outputs": [],
   "source": [
    "list = [2, 4, 6, 8, 10, 12, 14, 16, 18, 20]"
   ]
  },
  {
   "cell_type": "code",
   "execution_count": 4,
   "id": "c7d6ab87-d576-4af7-93c2-ee74b4323cd2",
   "metadata": {},
   "outputs": [],
   "source": [
    "# convert into iterator to performe the functoin "
   ]
  },
  {
   "cell_type": "code",
   "execution_count": 7,
   "id": "11a40bdb-2e03-463f-8679-4a7df55b8129",
   "metadata": {},
   "outputs": [
    {
     "data": {
      "text/plain": [
       "list_iterator"
      ]
     },
     "execution_count": 7,
     "metadata": {},
     "output_type": "execute_result"
    }
   ],
   "source": [
    "iter_list = iter(list)\n",
    "type(iter_list)"
   ]
  },
  {
   "cell_type": "code",
   "execution_count": 8,
   "id": "c4b7e20e-38e7-44f5-9995-9f01cadec9cf",
   "metadata": {},
   "outputs": [
    {
     "data": {
      "text/plain": [
       "2"
      ]
     },
     "execution_count": 8,
     "metadata": {},
     "output_type": "execute_result"
    }
   ],
   "source": [
    "next(iter_list)"
   ]
  },
  {
   "cell_type": "code",
   "execution_count": 9,
   "id": "61d7b418-858d-4e3e-aea9-86dcc1c3a3f2",
   "metadata": {},
   "outputs": [
    {
     "data": {
      "text/plain": [
       "4"
      ]
     },
     "execution_count": 9,
     "metadata": {},
     "output_type": "execute_result"
    }
   ],
   "source": [
    "next(iter_list)"
   ]
  },
  {
   "cell_type": "code",
   "execution_count": 10,
   "id": "c839ffa0-0378-40d4-90fe-a1e7e9affb95",
   "metadata": {},
   "outputs": [
    {
     "data": {
      "text/plain": [
       "6"
      ]
     },
     "execution_count": 10,
     "metadata": {},
     "output_type": "execute_result"
    }
   ],
   "source": [
    "next(iter_list)"
   ]
  },
  {
   "cell_type": "code",
   "execution_count": 11,
   "id": "9cf9ceae-36f6-4562-821a-3466675b4eaf",
   "metadata": {},
   "outputs": [
    {
     "data": {
      "text/plain": [
       "8"
      ]
     },
     "execution_count": 11,
     "metadata": {},
     "output_type": "execute_result"
    }
   ],
   "source": [
    "next(iter_list)"
   ]
  },
  {
   "cell_type": "code",
   "execution_count": 12,
   "id": "2f8bf052-fe2a-44bd-bbcf-1ca8ff53745c",
   "metadata": {},
   "outputs": [
    {
     "data": {
      "text/plain": [
       "10"
      ]
     },
     "execution_count": 12,
     "metadata": {},
     "output_type": "execute_result"
    }
   ],
   "source": [
    "next(iter_list)"
   ]
  },
  {
   "cell_type": "code",
   "execution_count": null,
   "id": "470f80c8-1bd2-4edc-a839-e60c5e5dd912",
   "metadata": {},
   "outputs": [],
   "source": []
  }
 ],
 "metadata": {
  "kernelspec": {
   "display_name": "Python 3 (ipykernel)",
   "language": "python",
   "name": "python3"
  },
  "language_info": {
   "codemirror_mode": {
    "name": "ipython",
    "version": 3
   },
   "file_extension": ".py",
   "mimetype": "text/x-python",
   "name": "python",
   "nbconvert_exporter": "python",
   "pygments_lexer": "ipython3",
   "version": "3.10.8"
  }
 },
 "nbformat": 4,
 "nbformat_minor": 5
}
