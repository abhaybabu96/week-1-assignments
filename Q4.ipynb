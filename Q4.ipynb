{
 "cells": [
  {
   "cell_type": "code",
   "execution_count": 1,
   "id": "2d24314f-9fed-4762-98c1-6bb170a84b56",
   "metadata": {},
   "outputs": [],
   "source": [
    "# How do you write and execute a Python script from the command line?"
   ]
  },
  {
   "cell_type": "code",
   "execution_count": 2,
   "id": "6cf80f63-31b0-4c68-b120-7db0ad069d2e",
   "metadata": {},
   "outputs": [],
   "source": [
    "# In Jupyter Notebook it's a simple process to create a new file and excute it. follow the steps "
   ]
  },
  {
   "cell_type": "code",
   "execution_count": 5,
   "id": "9b8fd796-c90c-4ac5-b85a-86e80ca95201",
   "metadata": {},
   "outputs": [],
   "source": [
    "# Open Jupyter Notebook\n",
    "# Click on + icon top left side of files in jupter notebook\n",
    "# Create a new file and naming it according to your script for or purpose\n",
    "# The file is created with extension using .ipynb (Python notebook)\n",
    "# Here you get command linees \n",
    "# Write your code here \n",
    "# To run your code script click run button play button top toolbar in python notebook or [Shift+Enter] \n",
    "# Your code run or print out error if you made any mistake in syntex or in code logic"
   ]
  },
  {
   "cell_type": "code",
   "execution_count": 6,
   "id": "cb88a108-d518-472b-81b1-40f585ba3230",
   "metadata": {},
   "outputs": [],
   "source": [
    "# Example blow"
   ]
  },
  {
   "cell_type": "code",
   "execution_count": 8,
   "id": "07215d54-753c-4089-a205-562236d88ed5",
   "metadata": {},
   "outputs": [
    {
     "name": "stdin",
     "output_type": "stream",
     "text": [
      "Enter your first value :  10\n",
      "Enter your second value :  20\n"
     ]
    },
    {
     "name": "stdout",
     "output_type": "stream",
     "text": [
      "30\n"
     ]
    }
   ],
   "source": [
    "# create two variable to add numbers using user input\n",
    "\n",
    "val1 = input(\"Enter your first value : \" )\n",
    "val2 = input(\"Enter your second value : \" )\n",
    "\n",
    "# convert values into int. and store into third variable\n",
    "\n",
    "sum_of_values = int(val1) + int(val2)\n",
    "\n",
    "# Enter Shift+Enter to run the programe and print the output\n",
    "\n",
    "print(sum_of_values)"
   ]
  },
  {
   "cell_type": "code",
   "execution_count": null,
   "id": "906748bf-2ff8-4f83-9795-c728a67e6173",
   "metadata": {},
   "outputs": [],
   "source": []
  }
 ],
 "metadata": {
  "kernelspec": {
   "display_name": "Python 3 (ipykernel)",
   "language": "python",
   "name": "python3"
  },
  "language_info": {
   "codemirror_mode": {
    "name": "ipython",
    "version": 3
   },
   "file_extension": ".py",
   "mimetype": "text/x-python",
   "name": "python",
   "nbconvert_exporter": "python",
   "pygments_lexer": "ipython3",
   "version": "3.10.8"
  }
 },
 "nbformat": 4,
 "nbformat_minor": 5
}
