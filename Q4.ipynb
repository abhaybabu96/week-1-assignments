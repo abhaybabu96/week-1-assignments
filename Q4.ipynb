{
 "cells": [
  {
   "cell_type": "code",
   "execution_count": 1,
   "id": "3e1853cd-5d47-491b-b5d9-171afd04b632",
   "metadata": {},
   "outputs": [],
   "source": [
    "# What is a generator function in python? Why yield keyword is used? Give an example of a generator\n",
    "# function."
   ]
  },
  {
   "cell_type": "code",
   "execution_count": 2,
   "id": "a96d6175-cd77-4827-823f-df9e84500b0f",
   "metadata": {},
   "outputs": [],
   "source": [
    "# generator function is a special type of function to where we want to genrate million no. of data. "
   ]
  },
  {
   "cell_type": "code",
   "execution_count": 3,
   "id": "3c204bca-0a2e-4c33-b93b-000817a24824",
   "metadata": {},
   "outputs": [],
   "source": [
    "# Generally when we outputs any no. of data it accupied memory according to data , where we used the genrator function \n",
    "# which help of yeild statement it's genrate output in form of iteration one by one without storing large no of data in memory "
   ]
  },
  {
   "cell_type": "code",
   "execution_count": 4,
   "id": "2b1d0792-04dc-44c0-a412-677a55566cd1",
   "metadata": {},
   "outputs": [],
   "source": [
    "# Which is used yeild keyword (statement) to genrate the output . "
   ]
  },
  {
   "cell_type": "code",
   "execution_count": 6,
   "id": "ad0ca403-53ec-4c6a-b3ea-a81e2a95a45d",
   "metadata": {},
   "outputs": [],
   "source": [
    "# it does not return a single value , it returns iterator objects with sequence of values."
   ]
  },
  {
   "cell_type": "code",
   "execution_count": null,
   "id": "a3da50f6-1aee-4c59-b241-0ab135fd50ca",
   "metadata": {},
   "outputs": [],
   "source": [
    "# example"
   ]
  },
  {
   "cell_type": "code",
   "execution_count": 11,
   "id": "14da195c-d246-45dd-9635-d527e67f2d5f",
   "metadata": {},
   "outputs": [],
   "source": [
    "# print the vlaue of list using genrator function "
   ]
  },
  {
   "cell_type": "code",
   "execution_count": 23,
   "id": "a6e326cf-9553-45ec-8765-75ddcbdf0b06",
   "metadata": {},
   "outputs": [
    {
     "name": "stdout",
     "output_type": "stream",
     "text": [
      "[0, 1, 2, 3, 4, 5]\n"
     ]
    }
   ],
   "source": [
    "def genrate_output() :\n",
    "    for i in range(0,6) :\n",
    "        yield i \n",
    "        \n",
    "# used the yild keyword to genrate output instead of uisng reutrn statement        \n",
    "        \n",
    "genrated_list = genrate_output()\n",
    "print(list(genrated_list))"
   ]
  },
  {
   "cell_type": "code",
   "execution_count": null,
   "id": "ed06d339-a481-474f-a0c4-4d5b5ccf2bcf",
   "metadata": {},
   "outputs": [],
   "source": []
  }
 ],
 "metadata": {
  "kernelspec": {
   "display_name": "Python 3 (ipykernel)",
   "language": "python",
   "name": "python3"
  },
  "language_info": {
   "codemirror_mode": {
    "name": "ipython",
    "version": 3
   },
   "file_extension": ".py",
   "mimetype": "text/x-python",
   "name": "python",
   "nbconvert_exporter": "python",
   "pygments_lexer": "ipython3",
   "version": "3.10.8"
  }
 },
 "nbformat": 4,
 "nbformat_minor": 5
}
