{
 "cells": [
  {
   "cell_type": "code",
   "execution_count": 5,
   "id": "00da7560-8a6a-4937-9231-a0fbd521dd4d",
   "metadata": {},
   "outputs": [],
   "source": [
    "# lets first import the reduce fuction from the functiontools , and then uisng lambda function taek two arguments x,y convert using code is product of x,y"
   ]
  },
  {
   "cell_type": "code",
   "execution_count": 4,
   "id": "ece30a69-ac17-49a5-ab11-816529da9e60",
   "metadata": {},
   "outputs": [
    {
     "data": {
      "text/plain": [
       "620448401733239439360000"
      ]
     },
     "execution_count": 4,
     "metadata": {},
     "output_type": "execute_result"
    }
   ],
   "source": [
    "from functools import reduce\n",
    "\n",
    "new_list = list(range(1,25))\n",
    "reduce(lambda x,y : x*y , new_list)"
   ]
  },
  {
   "cell_type": "code",
   "execution_count": null,
   "id": "5c88b86f-8ee2-49b8-8e1e-306a3d4c167a",
   "metadata": {},
   "outputs": [],
   "source": []
  }
 ],
 "metadata": {
  "kernelspec": {
   "display_name": "Python 3 (ipykernel)",
   "language": "python",
   "name": "python3"
  },
  "language_info": {
   "codemirror_mode": {
    "name": "ipython",
    "version": 3
   },
   "file_extension": ".py",
   "mimetype": "text/x-python",
   "name": "python",
   "nbconvert_exporter": "python",
   "pygments_lexer": "ipython3",
   "version": "3.10.8"
  }
 },
 "nbformat": 4,
 "nbformat_minor": 5
}
