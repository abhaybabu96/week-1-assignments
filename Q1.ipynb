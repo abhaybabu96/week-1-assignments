{
 "cells": [
  {
   "cell_type": "code",
   "execution_count": 7,
   "metadata": {},
   "outputs": [],
   "source": [
    "# Q1. Explain Class and Object with respect to Object-Oriented Programming. Give a suitable example."
   ]
  },
  {
   "cell_type": "code",
   "execution_count": 8,
   "metadata": {},
   "outputs": [],
   "source": [
    "# In Object Oriented Programming , Class is a blueprint and template that defines the properties and behaviour of boject \n",
    "# A class incapsulate data and methods . It provide a way to define new data in class and can performe action according to it.\n",
    "# it allowing to reuse the code. And create a better structe of code. modularity and abstraction "
   ]
  },
  {
   "cell_type": "code",
   "execution_count": 9,
   "metadata": {},
   "outputs": [],
   "source": [
    "# Respectively bojects are created based on class. it's instance of class ! "
   ]
  },
  {
   "cell_type": "code",
   "execution_count": 10,
   "metadata": {},
   "outputs": [],
   "source": [
    "# let's create a class and use to call it."
   ]
  },
  {
   "cell_type": "code",
   "execution_count": 11,
   "metadata": {},
   "outputs": [],
   "source": [
    "# let me explain you using a class vehicle (and few of class objects .. Name of vehicle and speed and avrage of vehical)"
   ]
  },
  {
   "cell_type": "code",
   "execution_count": 12,
   "metadata": {},
   "outputs": [
    {
     "name": "stdout",
     "output_type": "stream",
     "text": [
      "Hf Deluxe 120 65\n"
     ]
    }
   ],
   "source": [
    "class vehicle() :\n",
    "    def __init__(self, name_of_vehicle , max_speed,average_of_vehicle) :\n",
    "\n",
    "        self.vechicle_name = name_of_vehicle\n",
    "        self.maxspeed = max_speed\n",
    "        self.averageof_vechicle = average_of_vehicle\n",
    "    \n",
    "specs = vehicle(\"Hf Deluxe\",120,65)\n",
    "make_list = print(specs.vechicle_name,specs.maxspeed,specs.averageof_vechicle)"
   ]
  },
  {
   "cell_type": "code",
   "execution_count": null,
   "metadata": {},
   "outputs": [],
   "source": []
  }
 ],
 "metadata": {
  "kernelspec": {
   "display_name": "Python 3",
   "language": "python",
   "name": "python3"
  },
  "language_info": {
   "codemirror_mode": {
    "name": "ipython",
    "version": 3
   },
   "file_extension": ".py",
   "mimetype": "text/x-python",
   "name": "python",
   "nbconvert_exporter": "python",
   "pygments_lexer": "ipython3",
   "version": "3.11.3"
  },
  "orig_nbformat": 4
 },
 "nbformat": 4,
 "nbformat_minor": 2
}
