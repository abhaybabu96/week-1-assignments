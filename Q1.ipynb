{
 "cells": [
  {
   "cell_type": "code",
   "execution_count": 1,
   "id": "c752c5cf-f91b-4559-9c49-bba8867f2062",
   "metadata": {},
   "outputs": [],
   "source": [
    "# Which keyword is used to create a function? Create a function to return a list of odd numbers in the\n",
    "# range of 1 to 25."
   ]
  },
  {
   "cell_type": "code",
   "execution_count": 2,
   "id": "b967ec9e-c7a1-4cee-ac13-2faab9973c16",
   "metadata": {},
   "outputs": [],
   "source": [
    "# def keyword is used to create a function called defination "
   ]
  },
  {
   "cell_type": "code",
   "execution_count": 33,
   "id": "e46bcbad-b205-4432-9f06-a8751a711775",
   "metadata": {},
   "outputs": [
    {
     "data": {
      "text/plain": [
       "[1, 3, 5, 7, 9, 11, 13, 15, 17, 19, 21, 23]"
      ]
     },
     "execution_count": 33,
     "metadata": {},
     "output_type": "execute_result"
    }
   ],
   "source": [
    "def odd_num() :\n",
    "    list = []\n",
    "    for i in range(25) :\n",
    "        if i%2 != 0 :\n",
    "            list.append(i)\n",
    "    return list\n",
    "odd_num()"
   ]
  },
  {
   "cell_type": "code",
   "execution_count": null,
   "id": "f0e4c71b-bd34-4335-b63f-6f4382166c3a",
   "metadata": {},
   "outputs": [],
   "source": [
    "# if you want to print the 25 as well then use range between(0,26)"
   ]
  },
  {
   "cell_type": "code",
   "execution_count": 34,
   "id": "cadb75bc-b476-47af-abee-0220d83b107b",
   "metadata": {},
   "outputs": [
    {
     "data": {
      "text/plain": [
       "[1, 3, 5, 7, 9, 11, 13, 15, 17, 19, 21, 23, 25]"
      ]
     },
     "execution_count": 34,
     "metadata": {},
     "output_type": "execute_result"
    }
   ],
   "source": [
    "def odd_num() :\n",
    "    list = []\n",
    "    for i in range(1,26) :\n",
    "        if i%2 != 0 :\n",
    "            list.append(i)\n",
    "    return list\n",
    "odd_num()"
   ]
  },
  {
   "cell_type": "code",
   "execution_count": null,
   "id": "c76c3f8e-cf92-43db-bd10-1ec89c84833d",
   "metadata": {},
   "outputs": [],
   "source": []
  }
 ],
 "metadata": {
  "kernelspec": {
   "display_name": "Python 3 (ipykernel)",
   "language": "python",
   "name": "python3"
  },
  "language_info": {
   "codemirror_mode": {
    "name": "ipython",
    "version": 3
   },
   "file_extension": ".py",
   "mimetype": "text/x-python",
   "name": "python",
   "nbconvert_exporter": "python",
   "pygments_lexer": "ipython3",
   "version": "3.10.8"
  }
 },
 "nbformat": 4,
 "nbformat_minor": 5
}
