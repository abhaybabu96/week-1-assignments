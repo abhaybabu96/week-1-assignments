{
 "cells": [
  {
   "cell_type": "code",
   "execution_count": 1,
   "id": "23c63ebc-9fac-411b-8ec2-558a38b57bc9",
   "metadata": {},
   "outputs": [],
   "source": [
    "# comment code in python. "
   ]
  },
  {
   "cell_type": "code",
   "execution_count": 2,
   "id": "84a689da-9036-42c7-b1cb-6896c2ba910b",
   "metadata": {},
   "outputs": [],
   "source": [
    "## Single line comment code "
   ]
  },
  {
   "cell_type": "code",
   "execution_count": 3,
   "id": "767c9532-6498-415d-9d9f-940acf245666",
   "metadata": {},
   "outputs": [],
   "source": [
    "# Her is first example"
   ]
  },
  {
   "cell_type": "code",
   "execution_count": 4,
   "id": "5ef3826f-90b7-408f-b0d1-85e5cd66fc07",
   "metadata": {},
   "outputs": [],
   "source": [
    "# multi line comments \n",
    "# comments multi line \n",
    "# select using   Ctrl+a and press Ctrl+/ you can coomment multi line code  "
   ]
  },
  {
   "cell_type": "code",
   "execution_count": 10,
   "id": "4adc307f-945f-436b-a93a-b03c6bf4f1db",
   "metadata": {},
   "outputs": [
    {
     "data": {
      "text/plain": [
       "\" Hi team pw skills it's a multi line code we try to comment using three (inverted commas) \""
      ]
     },
     "execution_count": 10,
     "metadata": {},
     "output_type": "execute_result"
    }
   ],
   "source": [
    "''' Hi team pw skills it's a multi line code we try to comment using three (inverted commas) '''\n"
   ]
  },
  {
   "cell_type": "code",
   "execution_count": null,
   "id": "e678a974-674f-4ef0-abcc-f158819840f7",
   "metadata": {},
   "outputs": [],
   "source": []
  }
 ],
 "metadata": {
  "kernelspec": {
   "display_name": "Python 3 (ipykernel)",
   "language": "python",
   "name": "python3"
  },
  "language_info": {
   "codemirror_mode": {
    "name": "ipython",
    "version": 3
   },
   "file_extension": ".py",
   "mimetype": "text/x-python",
   "name": "python",
   "nbconvert_exporter": "python",
   "pygments_lexer": "ipython3",
   "version": "3.10.8"
  }
 },
 "nbformat": 4,
 "nbformat_minor": 5
}
