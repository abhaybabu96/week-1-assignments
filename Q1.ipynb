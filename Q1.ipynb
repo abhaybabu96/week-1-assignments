{
 "cells": [
  {
   "cell_type": "code",
   "execution_count": 1,
   "id": "04221afd-722d-471b-8a87-7436a60d27be",
   "metadata": {},
   "outputs": [],
   "source": [
    "# Create a python program to sort the given list of tuples based on integer value using a\n",
    "# lambda function."
   ]
  },
  {
   "cell_type": "code",
   "execution_count": 9,
   "id": "e755abc7-7cf2-4d58-917c-c8ad04cc4bf0",
   "metadata": {},
   "outputs": [],
   "source": [
    "# I take help  from google to sort that list. "
   ]
  },
  {
   "cell_type": "code",
   "execution_count": null,
   "id": "ee25c2d8-28d1-4b72-9f7f-5fa5f13004f6",
   "metadata": {},
   "outputs": [],
   "source": [
    "# it introduces me with the new function sorted , syntex sorted(iterable, key=key, reverse=reverse)"
   ]
  },
  {
   "cell_type": "code",
   "execution_count": 2,
   "id": "93aab1ea-8a00-428f-8ab4-1074b8550e3e",
   "metadata": {},
   "outputs": [],
   "source": [
    "sort_list = [('Sachin Tendulkar', 34357), ('Ricky Ponting', 27483), ('Jack Kallis', 25534), ('Virat Kohli', 24936)]"
   ]
  },
  {
   "cell_type": "code",
   "execution_count": 11,
   "id": "57795b4b-0162-4f7f-9a44-a4c45451371e",
   "metadata": {},
   "outputs": [
    {
     "name": "stdout",
     "output_type": "stream",
     "text": [
      "[('Virat Kohli', 24936), ('Jack Kallis', 25534), ('Ricky Ponting', 27483), ('Sachin Tendulkar', 34357)]\n"
     ]
    }
   ],
   "source": [
    "output_sor_list = sorted(sort_list,key=lambda x : x[1])\n",
    "print(output_sor_list)"
   ]
  }
 ],
 "metadata": {
  "kernelspec": {
   "display_name": "Python 3 (ipykernel)",
   "language": "python",
   "name": "python3"
  },
  "language_info": {
   "codemirror_mode": {
    "name": "ipython",
    "version": 3
   },
   "file_extension": ".py",
   "mimetype": "text/x-python",
   "name": "python",
   "nbconvert_exporter": "python",
   "pygments_lexer": "ipython3",
   "version": "3.10.8"
  }
 },
 "nbformat": 4,
 "nbformat_minor": 5
}
