{
 "cells": [
  {
   "cell_type": "code",
   "execution_count": 1,
   "metadata": {},
   "outputs": [],
   "source": [
    "# Q2. Name the four pillars of OOPs."
   ]
  },
  {
   "cell_type": "code",
   "execution_count": 2,
   "metadata": {},
   "outputs": [],
   "source": [
    "# Object Oriented Programming based on four priciple's "
   ]
  },
  {
   "cell_type": "code",
   "execution_count": 3,
   "metadata": {},
   "outputs": [],
   "source": [
    "# # Inharitence \n",
    "\n",
    "#  Inheritance is a mechanism that allows a class (known as a child or derived class) to inherit the properties and behaviors of another \n",
    "# class (known as a parent or base class). The child class can extend and specialize the functionality of the parent class by adding\n",
    "# new attributes and methods or overriding existing ones. Inheritance facilitates code reuse and promotes the concept of \"is-a\" \n",
    "# relationships between classes."
   ]
  },
  {
   "cell_type": "code",
   "execution_count": 4,
   "metadata": {},
   "outputs": [],
   "source": [
    "# Polymorphisam\n",
    "\n",
    "# Polymorphism means the ability of objects to take on multiple forms.\n",
    "# In OOP, polymorphism allows objects of different classes to be treated as objects of a common base class.\n",
    "# It enables the use of a single interface (method name) to represent different behaviors in different objects.\n",
    "# Polymorphism can be achieved through method overriding (where a subclass provides a different implementation of \n",
    "# a method defined in the parent class) and method overloading (where multiple methods with the same name but \n",
    "# different parameters are defined in a class).\n",
    "\n"
   ]
  },
  {
   "cell_type": "code",
   "execution_count": 5,
   "metadata": {},
   "outputs": [],
   "source": [
    "# Incapsulation \n",
    "\n",
    "# Encapsulation is the process of bundling data (attributes) and methods (functions) together within a class. \n",
    "# It allows for the hiding of internal data and provides a public interface for interacting with the object.\n",
    "# Encapsulation helps in achieving data abstraction and information hiding, promoting modularity and code organization."
   ]
  },
  {
   "cell_type": "code",
   "execution_count": null,
   "metadata": {},
   "outputs": [],
   "source": [
    "# Abstraction \n",
    "\n",
    "# Abstraction involves the process of simplifying complex systems by representing only the essential aspects and hiding unnecessary details.\n",
    "# In OOP, abstraction allows for the creation of abstract classes and interfaces that define a common interface for a set of related classes.\n",
    "#  Abstract classes cannot be instantiated and serve as blueprints for derived classes, while interfaces define a contract for classes \n",
    "# to implement specific methods. Abstraction helps in managing complexity, improving code maintainability, and promoting code reuse."
   ]
  },
  {
   "cell_type": "code",
   "execution_count": null,
   "metadata": {},
   "outputs": [],
   "source": []
  }
 ],
 "metadata": {
  "kernelspec": {
   "display_name": "Python 3",
   "language": "python",
   "name": "python3"
  },
  "language_info": {
   "codemirror_mode": {
    "name": "ipython",
    "version": 3
   },
   "file_extension": ".py",
   "mimetype": "text/x-python",
   "name": "python",
   "nbconvert_exporter": "python",
   "pygments_lexer": "ipython3",
   "version": "3.11.3"
  },
  "orig_nbformat": 4
 },
 "nbformat": 4,
 "nbformat_minor": 2
}
