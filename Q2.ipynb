{
 "cells": [
  {
   "cell_type": "code",
   "execution_count": 1,
   "id": "329a6037-b15d-4d6e-bf35-42763c0268c6",
   "metadata": {},
   "outputs": [],
   "source": [
    "# Why *args and **kwargs is used in some functions? Create a function each for *args and **kwargs\n",
    "# to demonstrate their use."
   ]
  },
  {
   "cell_type": "code",
   "execution_count": 10,
   "id": "1084da1b-cbfb-434c-a776-8940a7c8f9c0",
   "metadata": {},
   "outputs": [],
   "source": [
    "# the *args are take multiple nubers of agruments at the itme of invokatoin "
   ]
  },
  {
   "cell_type": "code",
   "execution_count": 9,
   "id": "e3d5f3a5-646f-4061-8296-2251fca52fe3",
   "metadata": {},
   "outputs": [
    {
     "data": {
      "text/plain": [
       "(5, 7)"
      ]
     },
     "execution_count": 9,
     "metadata": {},
     "output_type": "execute_result"
    }
   ],
   "source": [
    "def multiple_args(*args) :\n",
    "    return(args)\n",
    "multiple_args(5,7)"
   ]
  },
  {
   "cell_type": "code",
   "execution_count": 17,
   "id": "85c640d1-c0d7-4d39-b056-e9f70be3a733",
   "metadata": {},
   "outputs": [],
   "source": [
    "# **kwargs keyword is used to create dictionary using funcion and take arugment like dictoinalry"
   ]
  },
  {
   "cell_type": "code",
   "execution_count": 16,
   "id": "3a501800-0711-48a6-a1c8-05a9c03ea949",
   "metadata": {},
   "outputs": [
    {
     "data": {
      "text/plain": [
       "{'ident_no': 145975, 'name': 'Deepak', 'marks': 18652}"
      ]
     },
     "execution_count": 16,
     "metadata": {},
     "output_type": "execute_result"
    }
   ],
   "source": [
    "def create_dic(**kwargs) :\n",
    "    return(kwargs)\n",
    "create_dic(ident_no = 145975,name = 'Deepak',marks = 18652)"
   ]
  },
  {
   "cell_type": "code",
   "execution_count": null,
   "id": "5a7c0f3b-15c5-4f16-a3c3-a3dde704b3d0",
   "metadata": {},
   "outputs": [],
   "source": []
  }
 ],
 "metadata": {
  "kernelspec": {
   "display_name": "Python 3 (ipykernel)",
   "language": "python",
   "name": "python3"
  },
  "language_info": {
   "codemirror_mode": {
    "name": "ipython",
    "version": 3
   },
   "file_extension": ".py",
   "mimetype": "text/x-python",
   "name": "python",
   "nbconvert_exporter": "python",
   "pygments_lexer": "ipython3",
   "version": "3.10.8"
  }
 },
 "nbformat": 4,
 "nbformat_minor": 5
}
