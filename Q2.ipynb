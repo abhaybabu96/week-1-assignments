{
 "cells": [
  {
   "cell_type": "code",
   "execution_count": 1,
   "id": "dc167d2f-f084-435e-8dbd-6570e13c8f1f",
   "metadata": {},
   "outputs": [],
   "source": [
    "# variables in python "
   ]
  },
  {
   "cell_type": "code",
   "execution_count": 2,
   "id": "64ef02a9-c21b-47e7-9b51-3e92078956b8",
   "metadata": {},
   "outputs": [],
   "source": [
    "# To storing a data while writing code developer nees to store the data , or storing values in data Called Variables"
   ]
  },
  {
   "cell_type": "code",
   "execution_count": 3,
   "id": "3144cb1d-80ab-452e-8708-a42f3f4ed4dd",
   "metadata": {},
   "outputs": [],
   "source": [
    "# Further Variables can be used in code"
   ]
  },
  {
   "cell_type": "code",
   "execution_count": 4,
   "id": "b603d91e-d226-4705-a359-7ca51017bab3",
   "metadata": {},
   "outputs": [],
   "source": [
    "# Syntext Variabale_name = \"Value\"  # value may be in String form , Numbers form weather it Int or Float , Boolean values "
   ]
  },
  {
   "cell_type": "code",
   "execution_count": 5,
   "id": "9219c13e-392b-4355-91dd-8f1dfe66acab",
   "metadata": {},
   "outputs": [],
   "source": [
    "# Python's Advantage is self typed , it can understand the data type by slef weather we enter int,float,sting ... boolean value."
   ]
  },
  {
   "cell_type": "code",
   "execution_count": 7,
   "id": "4b26cfc1-c046-400a-bb16-391664006a31",
   "metadata": {},
   "outputs": [
    {
     "name": "stdout",
     "output_type": "stream",
     "text": [
      "Abhay\n"
     ]
    },
    {
     "data": {
      "text/plain": [
       "str"
      ]
     },
     "execution_count": 7,
     "metadata": {},
     "output_type": "execute_result"
    }
   ],
   "source": [
    "name = \"Abhay\"\n",
    "print(name)\n",
    "type(name)"
   ]
  },
  {
   "cell_type": "code",
   "execution_count": 9,
   "id": "9f390fc5-9169-48e7-b057-d1c1f35f02b0",
   "metadata": {},
   "outputs": [
    {
     "name": "stdout",
     "output_type": "stream",
     "text": [
      "23\n"
     ]
    },
    {
     "data": {
      "text/plain": [
       "int"
      ]
     },
     "execution_count": 9,
     "metadata": {},
     "output_type": "execute_result"
    }
   ],
   "source": [
    "age = 23\n",
    "print(age)\n",
    "type(age)"
   ]
  },
  {
   "cell_type": "code",
   "execution_count": 11,
   "id": "55ca9ce5-3b2c-4836-9eae-2846f0d25a1c",
   "metadata": {},
   "outputs": [
    {
     "name": "stdout",
     "output_type": "stream",
     "text": [
      "18400.99\n"
     ]
    },
    {
     "data": {
      "text/plain": [
       "float"
      ]
     },
     "execution_count": 11,
     "metadata": {},
     "output_type": "execute_result"
    }
   ],
   "source": [
    "ctc = 18400.99\n",
    "print(ctc)\n",
    "type(ctc)"
   ]
  },
  {
   "cell_type": "code",
   "execution_count": 13,
   "id": "c6ba42c5-ba0b-45ce-bfd8-947631299279",
   "metadata": {},
   "outputs": [
    {
     "name": "stdout",
     "output_type": "stream",
     "text": [
      "False\n"
     ]
    },
    {
     "data": {
      "text/plain": [
       "bool"
      ]
     },
     "execution_count": 13,
     "metadata": {},
     "output_type": "execute_result"
    }
   ],
   "source": [
    "married = False\n",
    "print(married)\n",
    "type(married)"
   ]
  },
  {
   "cell_type": "code",
   "execution_count": null,
   "id": "0f13c3fd-d306-4ba2-9720-89cdc6f8659c",
   "metadata": {},
   "outputs": [],
   "source": []
  }
 ],
 "metadata": {
  "kernelspec": {
   "display_name": "Python 3 (ipykernel)",
   "language": "python",
   "name": "python3"
  },
  "language_info": {
   "codemirror_mode": {
    "name": "ipython",
    "version": 3
   },
   "file_extension": ".py",
   "mimetype": "text/x-python",
   "name": "python",
   "nbconvert_exporter": "python",
   "pygments_lexer": "ipython3",
   "version": "3.10.8"
  }
 },
 "nbformat": 4,
 "nbformat_minor": 5
}
