{
 "cells": [
  {
   "cell_type": "code",
   "execution_count": 1,
   "id": "026172d6-d88b-4f40-920c-2d0795b798d1",
   "metadata": {},
   "outputs": [],
   "source": [
    "# Write a Python Program to find the squares of all the numbers in the given list of integers using\n",
    "# lambda and map functions.\n",
    "# [1, 2, 3, 4, 5, 6, 7, 8, 9, 10]"
   ]
  },
  {
   "cell_type": "code",
   "execution_count": 3,
   "id": "1fa4b1a3-29bf-4a99-a960-ec26506412df",
   "metadata": {},
   "outputs": [],
   "source": [
    "list_data = [1, 2, 3, 4, 5, 6, 7, 8, 9, 10]"
   ]
  },
  {
   "cell_type": "code",
   "execution_count": 6,
   "id": "27e8a7c3-b151-4d04-b731-b2a4a1a3d4b6",
   "metadata": {},
   "outputs": [
    {
     "name": "stdout",
     "output_type": "stream",
     "text": [
      "Here the list with Sqare root data :- [1, 4, 9, 16, 25, 36, 49, 64, 81, 100]\n"
     ]
    }
   ],
   "source": [
    "# To using function , the syntex is first function and then iterables and genratge the output in  tohe form of list.\n",
    "\n",
    "print(\"Here the list with Sqare root data :-\",list(map(lambda x : x**2 , list_data)))"
   ]
  },
  {
   "cell_type": "code",
   "execution_count": null,
   "id": "d66c2356-ce44-4720-92a5-437b228b603d",
   "metadata": {},
   "outputs": [],
   "source": []
  }
 ],
 "metadata": {
  "kernelspec": {
   "display_name": "Python 3 (ipykernel)",
   "language": "python",
   "name": "python3"
  },
  "language_info": {
   "codemirror_mode": {
    "name": "ipython",
    "version": 3
   },
   "file_extension": ".py",
   "mimetype": "text/x-python",
   "name": "python",
   "nbconvert_exporter": "python",
   "pygments_lexer": "ipython3",
   "version": "3.10.8"
  }
 },
 "nbformat": 4,
 "nbformat_minor": 5
}
