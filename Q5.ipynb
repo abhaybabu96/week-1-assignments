{
 "cells": [
  {
   "cell_type": "code",
   "execution_count": 10,
   "id": "f75a2a0d-ddb8-49df-a71e-f4996ad815b9",
   "metadata": {},
   "outputs": [],
   "source": [
    "# Create a generator function for prime numbers less than 1000. Use the next() method to print the\n",
    "# first 20 prime numbers."
   ]
  },
  {
   "cell_type": "code",
   "execution_count": 44,
   "id": "0a4681f9-99a4-4a83-956d-17f2a0d399c4",
   "metadata": {},
   "outputs": [
    {
     "data": {
      "text/plain": [
       "2"
      ]
     },
     "execution_count": 44,
     "metadata": {},
     "output_type": "execute_result"
    }
   ],
   "source": [
    "def genrate_prime() :\n",
    "    for num in range(2,1000) :\n",
    "        prime_no = True \n",
    "        for i in range(2, int(num**(0.5))+1) :\n",
    "            if num % i == 0 :\n",
    "                prime_no = False \n",
    "                break \n",
    "        if prime_no :\n",
    "            yield num\n",
    "            \n",
    "print_prime = genrate_prime()\n",
    "\n",
    "next(print_prime)"
   ]
  },
  {
   "cell_type": "code",
   "execution_count": 45,
   "id": "dde3517d-2a1a-4306-bc3d-f6e763f00aa8",
   "metadata": {},
   "outputs": [
    {
     "data": {
      "text/plain": [
       "3"
      ]
     },
     "execution_count": 45,
     "metadata": {},
     "output_type": "execute_result"
    }
   ],
   "source": [
    "next(print_prime)"
   ]
  },
  {
   "cell_type": "code",
   "execution_count": 46,
   "id": "c487e664-80a8-422b-806a-f0f8325f8720",
   "metadata": {},
   "outputs": [
    {
     "data": {
      "text/plain": [
       "5"
      ]
     },
     "execution_count": 46,
     "metadata": {},
     "output_type": "execute_result"
    }
   ],
   "source": [
    "next(print_prime)"
   ]
  },
  {
   "cell_type": "code",
   "execution_count": 47,
   "id": "5cd45544-0b2e-4b90-9cf1-a35d2fe3b5ab",
   "metadata": {},
   "outputs": [
    {
     "data": {
      "text/plain": [
       "7"
      ]
     },
     "execution_count": 47,
     "metadata": {},
     "output_type": "execute_result"
    }
   ],
   "source": [
    "next(print_prime)"
   ]
  },
  {
   "cell_type": "code",
   "execution_count": 48,
   "id": "8e2f10e2-8a8b-4864-bfd8-bd222d9d80ac",
   "metadata": {},
   "outputs": [
    {
     "data": {
      "text/plain": [
       "11"
      ]
     },
     "execution_count": 48,
     "metadata": {},
     "output_type": "execute_result"
    }
   ],
   "source": [
    "next(print_prime)"
   ]
  },
  {
   "cell_type": "code",
   "execution_count": 49,
   "id": "52f06399-524e-4218-b6a0-764cfe73e53f",
   "metadata": {},
   "outputs": [
    {
     "data": {
      "text/plain": [
       "13"
      ]
     },
     "execution_count": 49,
     "metadata": {},
     "output_type": "execute_result"
    }
   ],
   "source": [
    "next(print_prime)"
   ]
  },
  {
   "cell_type": "code",
   "execution_count": 50,
   "id": "93f33aad-6d63-4365-93c2-89a091caba95",
   "metadata": {},
   "outputs": [
    {
     "data": {
      "text/plain": [
       "17"
      ]
     },
     "execution_count": 50,
     "metadata": {},
     "output_type": "execute_result"
    }
   ],
   "source": [
    "next(print_prime)"
   ]
  },
  {
   "cell_type": "code",
   "execution_count": 51,
   "id": "c14e042b-de9d-4b2e-b879-3c0861cf593b",
   "metadata": {},
   "outputs": [
    {
     "data": {
      "text/plain": [
       "19"
      ]
     },
     "execution_count": 51,
     "metadata": {},
     "output_type": "execute_result"
    }
   ],
   "source": [
    "next(print_prime)"
   ]
  },
  {
   "cell_type": "code",
   "execution_count": 52,
   "id": "235bfd3c-ae7b-4049-8d83-f7e574c1b420",
   "metadata": {},
   "outputs": [
    {
     "data": {
      "text/plain": [
       "23"
      ]
     },
     "execution_count": 52,
     "metadata": {},
     "output_type": "execute_result"
    }
   ],
   "source": [
    "next(print_prime)"
   ]
  },
  {
   "cell_type": "code",
   "execution_count": 53,
   "id": "66ca8a87-ac3d-4a9c-bc6a-a03f3eee8846",
   "metadata": {},
   "outputs": [
    {
     "data": {
      "text/plain": [
       "29"
      ]
     },
     "execution_count": 53,
     "metadata": {},
     "output_type": "execute_result"
    }
   ],
   "source": [
    "next(print_prime)"
   ]
  },
  {
   "cell_type": "code",
   "execution_count": 54,
   "id": "8c7dea57-4f97-4f7f-8954-3507b9565940",
   "metadata": {},
   "outputs": [
    {
     "data": {
      "text/plain": [
       "31"
      ]
     },
     "execution_count": 54,
     "metadata": {},
     "output_type": "execute_result"
    }
   ],
   "source": [
    "next(print_prime)"
   ]
  },
  {
   "cell_type": "code",
   "execution_count": 55,
   "id": "75ef7b44-e328-4209-be9f-9347c7ba2404",
   "metadata": {},
   "outputs": [
    {
     "data": {
      "text/plain": [
       "37"
      ]
     },
     "execution_count": 55,
     "metadata": {},
     "output_type": "execute_result"
    }
   ],
   "source": [
    "next(print_prime)"
   ]
  },
  {
   "cell_type": "code",
   "execution_count": 56,
   "id": "de9df853-0315-4993-b5c8-f4e14faf3349",
   "metadata": {},
   "outputs": [
    {
     "data": {
      "text/plain": [
       "41"
      ]
     },
     "execution_count": 56,
     "metadata": {},
     "output_type": "execute_result"
    }
   ],
   "source": [
    "next(print_prime)"
   ]
  },
  {
   "cell_type": "code",
   "execution_count": 57,
   "id": "56948cd3-54fa-4a4e-9fb4-11626021432e",
   "metadata": {},
   "outputs": [
    {
     "data": {
      "text/plain": [
       "43"
      ]
     },
     "execution_count": 57,
     "metadata": {},
     "output_type": "execute_result"
    }
   ],
   "source": [
    "next(print_prime)"
   ]
  },
  {
   "cell_type": "code",
   "execution_count": 58,
   "id": "eff50f1a-8de3-4351-8663-0fcf5ad70a3a",
   "metadata": {},
   "outputs": [
    {
     "data": {
      "text/plain": [
       "47"
      ]
     },
     "execution_count": 58,
     "metadata": {},
     "output_type": "execute_result"
    }
   ],
   "source": [
    "next(print_prime)"
   ]
  },
  {
   "cell_type": "code",
   "execution_count": 59,
   "id": "4d84504d-3475-4188-99e7-e52e10acb8af",
   "metadata": {},
   "outputs": [
    {
     "data": {
      "text/plain": [
       "53"
      ]
     },
     "execution_count": 59,
     "metadata": {},
     "output_type": "execute_result"
    }
   ],
   "source": [
    "next(print_prime)"
   ]
  },
  {
   "cell_type": "code",
   "execution_count": 60,
   "id": "9142680d-96ad-4110-ae7a-26a1f2b9f057",
   "metadata": {},
   "outputs": [
    {
     "data": {
      "text/plain": [
       "59"
      ]
     },
     "execution_count": 60,
     "metadata": {},
     "output_type": "execute_result"
    }
   ],
   "source": [
    "next(print_prime)"
   ]
  },
  {
   "cell_type": "code",
   "execution_count": 61,
   "id": "626d2e9d-5f11-4597-abde-8c4f29edefb9",
   "metadata": {},
   "outputs": [
    {
     "data": {
      "text/plain": [
       "61"
      ]
     },
     "execution_count": 61,
     "metadata": {},
     "output_type": "execute_result"
    }
   ],
   "source": [
    "next(print_prime)"
   ]
  },
  {
   "cell_type": "code",
   "execution_count": 62,
   "id": "d6647f8e-5f5f-439c-ac6e-929a34d751ba",
   "metadata": {},
   "outputs": [
    {
     "data": {
      "text/plain": [
       "67"
      ]
     },
     "execution_count": 62,
     "metadata": {},
     "output_type": "execute_result"
    }
   ],
   "source": [
    "next(print_prime)"
   ]
  },
  {
   "cell_type": "code",
   "execution_count": 63,
   "id": "5bac9c4e-a466-4b0a-ac66-e63d13629cea",
   "metadata": {},
   "outputs": [
    {
     "data": {
      "text/plain": [
       "71"
      ]
     },
     "execution_count": 63,
     "metadata": {},
     "output_type": "execute_result"
    }
   ],
   "source": [
    "next(print_prime)"
   ]
  },
  {
   "cell_type": "code",
   "execution_count": null,
   "id": "a4fce91b-77e9-413c-9e26-23714f3d2744",
   "metadata": {},
   "outputs": [],
   "source": []
  }
 ],
 "metadata": {
  "kernelspec": {
   "display_name": "Python 3 (ipykernel)",
   "language": "python",
   "name": "python3"
  },
  "language_info": {
   "codemirror_mode": {
    "name": "ipython",
    "version": 3
   },
   "file_extension": ".py",
   "mimetype": "text/x-python",
   "name": "python",
   "nbconvert_exporter": "python",
   "pygments_lexer": "ipython3",
   "version": "3.10.8"
  }
 },
 "nbformat": 4,
 "nbformat_minor": 5
}
