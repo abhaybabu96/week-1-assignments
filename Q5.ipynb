{
 "cells": [
  {
   "cell_type": "code",
   "execution_count": 1,
   "id": "db4c2b6d-de45-43a4-b09a-fee09caef15a",
   "metadata": {},
   "outputs": [],
   "source": [
    "# Given a list my_list = [1, 2, 3, 4, 5], write the code to slice the list and obtain the sub-list [2, 3]."
   ]
  },
  {
   "cell_type": "code",
   "execution_count": 2,
   "id": "85e94fae-15cc-45c5-bb32-d0350353a8ac",
   "metadata": {},
   "outputs": [],
   "source": [
    "# create a list "
   ]
  },
  {
   "cell_type": "code",
   "execution_count": 4,
   "id": "609387e7-73f5-4a70-9268-f96907faa90e",
   "metadata": {},
   "outputs": [
    {
     "name": "stdout",
     "output_type": "stream",
     "text": [
      "[2, 3]\n"
     ]
    }
   ],
   "source": [
    "my_list = [1, 2, 3, 4, 5]\n",
    "\n",
    "# we need the output [2,3]\n",
    "# For that we will used slice function \n",
    "# syntx var_name = [] # list [firstvalue : secondvalue (till last index)] and run the output\n",
    "\n",
    "# store the new list into new variable \n",
    "\n",
    "sub_list = my_list[1:3]\n",
    "# Extract the list data from 2 node (index) to third and run \n",
    "print(sub_list)"
   ]
  },
  {
   "cell_type": "code",
   "execution_count": null,
   "id": "5f9c7177-1827-4626-8d15-d48aee6926e9",
   "metadata": {},
   "outputs": [],
   "source": []
  }
 ],
 "metadata": {
  "kernelspec": {
   "display_name": "Python 3 (ipykernel)",
   "language": "python",
   "name": "python3"
  },
  "language_info": {
   "codemirror_mode": {
    "name": "ipython",
    "version": 3
   },
   "file_extension": ".py",
   "mimetype": "text/x-python",
   "name": "python",
   "nbconvert_exporter": "python",
   "pygments_lexer": "ipython3",
   "version": "3.10.8"
  }
 },
 "nbformat": 4,
 "nbformat_minor": 5
}
