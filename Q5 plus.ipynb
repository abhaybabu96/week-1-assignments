{
 "cells": [
  {
   "cell_type": "code",
   "execution_count": 6,
   "id": "d5e290ad-295e-49f6-8b1b-f6b00625640e",
   "metadata": {},
   "outputs": [
    {
     "name": "stdout",
     "output_type": "stream",
     "text": [
      "2\n",
      "3\n",
      "5\n",
      "7\n",
      "11\n",
      "13\n",
      "17\n",
      "19\n",
      "23\n",
      "29\n",
      "31\n",
      "37\n",
      "41\n",
      "43\n",
      "47\n",
      "53\n",
      "59\n",
      "61\n",
      "67\n",
      "71\n"
     ]
    }
   ],
   "source": [
    "def genrate_prime() :\n",
    "    for num in range(2,1000) :\n",
    "        prime_no = True \n",
    "        for i in range(2, int(num**(0.5))+1) :\n",
    "            if num % i == 0 :\n",
    "                prime_no = False \n",
    "                break \n",
    "        if prime_no :\n",
    "            yield num\n",
    "            \n",
    "print_prime = genrate_prime()\n",
    "\n",
    "for prime_nubers in range(20) :\n",
    "    prime_nubers = next(print_prime)\n",
    "    print(prime_nubers)"
   ]
  },
  {
   "cell_type": "code",
   "execution_count": null,
   "id": "0245b059-a748-4219-9ffb-ed4376c6bb62",
   "metadata": {},
   "outputs": [],
   "source": []
  }
 ],
 "metadata": {
  "kernelspec": {
   "display_name": "Python 3 (ipykernel)",
   "language": "python",
   "name": "python3"
  },
  "language_info": {
   "codemirror_mode": {
    "name": "ipython",
    "version": 3
   },
   "file_extension": ".py",
   "mimetype": "text/x-python",
   "name": "python",
   "nbconvert_exporter": "python",
   "pygments_lexer": "ipython3",
   "version": "3.10.8"
  }
 },
 "nbformat": 4,
 "nbformat_minor": 5
}
