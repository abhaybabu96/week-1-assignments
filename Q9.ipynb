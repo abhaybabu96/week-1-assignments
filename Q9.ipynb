{
 "cells": [
  {
   "cell_type": "code",
   "execution_count": 11,
   "id": "a672f1d6-2e00-41ad-8099-ebf40642a09f",
   "metadata": {},
   "outputs": [],
   "source": [
    "# Write a code to print odd numbers from 1 to 100 using list comprehension."
   ]
  },
  {
   "cell_type": "code",
   "execution_count": null,
   "id": "7559d554-5ea3-46e0-a787-a19f2064a910",
   "metadata": {},
   "outputs": [],
   "source": [
    "# take a variable and write loop and condiotn into form of list."
   ]
  },
  {
   "cell_type": "code",
   "execution_count": 10,
   "id": "0d247734-3278-4bd0-9517-d40db7c3b1f7",
   "metadata": {},
   "outputs": [
    {
     "name": "stdout",
     "output_type": "stream",
     "text": [
      "[1, 3, 5, 7, 9, 11, 13, 15, 17, 19, 21, 23, 25, 27, 29, 31, 33, 35, 37, 39, 41, 43, 45, 47, 49, 51, 53, 55, 57, 59, 61, 63, 65, 67, 69, 71, 73, 75, 77, 79, 81, 83, 85, 87, 89, 91, 93, 95, 97, 99]\n"
     ]
    }
   ],
   "source": [
    "get_oddno = [num for num in range(1,100) if num%2 != 0 ]\n",
    "\n",
    "print(get_oddno)"
   ]
  },
  {
   "cell_type": "code",
   "execution_count": null,
   "id": "722e53e2-af9b-477c-937d-106ba1854e28",
   "metadata": {},
   "outputs": [],
   "source": []
  }
 ],
 "metadata": {
  "kernelspec": {
   "display_name": "Python 3 (ipykernel)",
   "language": "python",
   "name": "python3"
  },
  "language_info": {
   "codemirror_mode": {
    "name": "ipython",
    "version": 3
   },
   "file_extension": ".py",
   "mimetype": "text/x-python",
   "name": "python",
   "nbconvert_exporter": "python",
   "pygments_lexer": "ipython3",
   "version": "3.10.8"
  }
 },
 "nbformat": 4,
 "nbformat_minor": 5
}
