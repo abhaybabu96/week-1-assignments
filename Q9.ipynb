{
 "cells": [
  {
   "cell_type": "code",
   "execution_count": 1,
   "id": "5780deac-7ead-44e4-bc25-47ad5866184f",
   "metadata": {},
   "outputs": [],
   "source": [
    "# Create a variable named name and assign your full name to it as a string. How would you print the\n",
    "# value of this variable?"
   ]
  },
  {
   "cell_type": "code",
   "execution_count": 2,
   "id": "7b856979-56b4-4927-be9d-d2e2aee901ac",
   "metadata": {},
   "outputs": [],
   "source": [
    "# variable declaration "
   ]
  },
  {
   "cell_type": "code",
   "execution_count": 3,
   "id": "53300599-e401-4cb9-a5b2-a2a15ffa35ee",
   "metadata": {},
   "outputs": [],
   "source": [
    "name = \"Abhay Babu\""
   ]
  },
  {
   "cell_type": "code",
   "execution_count": 4,
   "id": "f6283a5f-ef81-4912-846c-a7897eb01cd3",
   "metadata": {},
   "outputs": [],
   "source": [
    "# print the vlaue of name variable and it's type"
   ]
  },
  {
   "cell_type": "code",
   "execution_count": 5,
   "id": "d1d83df5-facd-4381-a286-e705f5f37b09",
   "metadata": {},
   "outputs": [
    {
     "name": "stdout",
     "output_type": "stream",
     "text": [
      "Abhay Babu\n"
     ]
    },
    {
     "data": {
      "text/plain": [
       "str"
      ]
     },
     "execution_count": 5,
     "metadata": {},
     "output_type": "execute_result"
    }
   ],
   "source": [
    "print(name)\n",
    "type(name)"
   ]
  },
  {
   "cell_type": "code",
   "execution_count": null,
   "id": "87427113-caa1-4f1b-8983-f6cd88d6879e",
   "metadata": {},
   "outputs": [],
   "source": []
  }
 ],
 "metadata": {
  "kernelspec": {
   "display_name": "Python 3 (ipykernel)",
   "language": "python",
   "name": "python3"
  },
  "language_info": {
   "codemirror_mode": {
    "name": "ipython",
    "version": 3
   },
   "file_extension": ".py",
   "mimetype": "text/x-python",
   "name": "python",
   "nbconvert_exporter": "python",
   "pygments_lexer": "ipython3",
   "version": "3.10.8"
  }
 },
 "nbformat": 4,
 "nbformat_minor": 5
}
