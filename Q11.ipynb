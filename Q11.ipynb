{
 "cells": [
  {
   "cell_type": "code",
   "execution_count": 1,
   "id": "e70a2145-0ccd-4409-a96a-fc0e62e0f0d1",
   "metadata": {},
   "outputs": [],
   "source": [
    "# Create a variable named \"is_student\" and assign it a boolean value indicating whether you are\n",
    "# currently a student or not."
   ]
  },
  {
   "cell_type": "code",
   "execution_count": 2,
   "id": "09f6909a-0680-4151-ad6d-716400616082",
   "metadata": {},
   "outputs": [],
   "source": [
    "# Variable declaration "
   ]
  },
  {
   "cell_type": "code",
   "execution_count": 3,
   "id": "28d3989e-7e86-4ddf-badd-31c4ad9df6ee",
   "metadata": {},
   "outputs": [],
   "source": [
    "is_student = True "
   ]
  },
  {
   "cell_type": "code",
   "execution_count": 4,
   "id": "5d1daf28-605c-4093-b61c-b4e4d5b8eefb",
   "metadata": {},
   "outputs": [],
   "source": [
    "# Creating a control flow statement where you enter the value of string you are student or not "
   ]
  },
  {
   "cell_type": "code",
   "execution_count": null,
   "id": "eaec6f1a-fc00-482b-870a-0905faa00987",
   "metadata": {},
   "outputs": [],
   "source": [
    "enter_value = input(\"Ans in Yes or No ... is You are student or Not :-\")\n",
    "\n",
    "if enter_value.strip() == \"Yes\" :\n",
    "    print(is_student)\n",
    "elif   enter_value.strip() == \"No\" :\n",
    "    print(False)\n",
    "else :\n",
    "    print(\"Please enter the input in form of Yes or NO.\")"
   ]
  },
  {
   "cell_type": "code",
   "execution_count": null,
   "id": "65306bb7-c3c4-4d34-95cb-6c012f3127d4",
   "metadata": {},
   "outputs": [],
   "source": []
  }
 ],
 "metadata": {
  "kernelspec": {
   "display_name": "Python 3 (ipykernel)",
   "language": "python",
   "name": "python3"
  },
  "language_info": {
   "codemirror_mode": {
    "name": "ipython",
    "version": 3
   },
   "file_extension": ".py",
   "mimetype": "text/x-python",
   "name": "python",
   "nbconvert_exporter": "python",
   "pygments_lexer": "ipython3",
   "version": "3.10.8"
  }
 },
 "nbformat": 4,
 "nbformat_minor": 5
}
