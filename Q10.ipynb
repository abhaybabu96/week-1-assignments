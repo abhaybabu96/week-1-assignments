{
 "cells": [
  {
   "cell_type": "code",
   "execution_count": 1,
   "id": "f1bfa1e9-2614-4f26-90a5-a4448a34b895",
   "metadata": {},
   "outputs": [],
   "source": [
    "# Given the string \"Hello, World!\", extract the substring \"World\"."
   ]
  },
  {
   "cell_type": "code",
   "execution_count": 2,
   "id": "bc4a951c-4245-4f31-9b5c-63d053c6e69b",
   "metadata": {},
   "outputs": [],
   "source": [
    "# variable declaration "
   ]
  },
  {
   "cell_type": "code",
   "execution_count": 3,
   "id": "9f39d7c6-a893-456f-9043-7f6d9eaf0a59",
   "metadata": {},
   "outputs": [],
   "source": [
    "string_value = \"Hello , World!\""
   ]
  },
  {
   "cell_type": "code",
   "execution_count": 4,
   "id": "95978bdd-789e-48d9-a8f9-085de14a1fe9",
   "metadata": {},
   "outputs": [],
   "source": [
    "# print the lenght of variable "
   ]
  },
  {
   "cell_type": "code",
   "execution_count": 7,
   "id": "412d1339-86e9-4115-bc4e-238a20ad0d6e",
   "metadata": {},
   "outputs": [],
   "source": [
    "# To execute the substing output we count the no. where to start count and end."
   ]
  },
  {
   "cell_type": "code",
   "execution_count": 10,
   "id": "d3647a2b-15a4-4742-a789-2918fb73621c",
   "metadata": {},
   "outputs": [
    {
     "data": {
      "text/plain": [
       "'World'"
      ]
     },
     "execution_count": 10,
     "metadata": {},
     "output_type": "execute_result"
    }
   ],
   "source": [
    "# lenght of extracting no. count the index the index  started from 8 and end it to. 13 \n",
    "# use slice function to get the output \n",
    "string_value[8:13]"
   ]
  },
  {
   "cell_type": "code",
   "execution_count": null,
   "id": "c3cc2dc5-b570-4697-b701-8b69844be3c6",
   "metadata": {},
   "outputs": [],
   "source": []
  }
 ],
 "metadata": {
  "kernelspec": {
   "display_name": "Python 3 (ipykernel)",
   "language": "python",
   "name": "python3"
  },
  "language_info": {
   "codemirror_mode": {
    "name": "ipython",
    "version": 3
   },
   "file_extension": ".py",
   "mimetype": "text/x-python",
   "name": "python",
   "nbconvert_exporter": "python",
   "pygments_lexer": "ipython3",
   "version": "3.10.8"
  }
 },
 "nbformat": 4,
 "nbformat_minor": 5
}
