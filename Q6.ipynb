{
 "cells": [
  {
   "cell_type": "code",
   "execution_count": 1,
   "id": "e405b535-9629-453c-876a-c5928ac7668f",
   "metadata": {},
   "outputs": [],
   "source": [
    "# What is a complex number in mathematics, and how is it represented in Python?"
   ]
  },
  {
   "cell_type": "code",
   "execution_count": 2,
   "id": "25b0b8ec-6985-4a18-a499-c660bd93b8d3",
   "metadata": {},
   "outputs": [],
   "source": [
    "# Complex no. in the mathmatics where one is real no. and + plus with anohter no. called imaginary no."
   ]
  },
  {
   "cell_type": "code",
   "execution_count": 3,
   "id": "9a7579d8-54d5-4436-9f37-ef1cf1a625ec",
   "metadata": {},
   "outputs": [],
   "source": [
    "# syntex [3+5i]\n",
    "\n",
    "# where 3 is read no. and 5i is imaginary no."
   ]
  },
  {
   "cell_type": "code",
   "execution_count": 4,
   "id": "832bb870-2359-4bbc-915a-118d898fd81f",
   "metadata": {},
   "outputs": [],
   "source": [
    "# In Python we also have complex no. "
   ]
  },
  {
   "cell_type": "code",
   "execution_count": 5,
   "id": "559f6781-1a4f-4445-8d87-a350472fea5d",
   "metadata": {},
   "outputs": [],
   "source": [
    "# but the imaginary no. will only denote by j or J "
   ]
  },
  {
   "cell_type": "code",
   "execution_count": 6,
   "id": "4d388b96-48a6-4e8b-a333-e3b2e1264c12",
   "metadata": {},
   "outputs": [
    {
     "name": "stdout",
     "output_type": "stream",
     "text": [
      "(5+3j)\n"
     ]
    },
    {
     "data": {
      "text/plain": [
       "complex"
      ]
     },
     "execution_count": 6,
     "metadata": {},
     "output_type": "execute_result"
    }
   ],
   "source": [
    "show_no = 5+3j\n",
    "print(show_no)\n",
    "type(show_no)"
   ]
  },
  {
   "cell_type": "code",
   "execution_count": null,
   "id": "ead31c61-1019-4472-b26a-6c0c1aa9f1a8",
   "metadata": {},
   "outputs": [],
   "source": []
  }
 ],
 "metadata": {
  "kernelspec": {
   "display_name": "Python 3 (ipykernel)",
   "language": "python",
   "name": "python3"
  },
  "language_info": {
   "codemirror_mode": {
    "name": "ipython",
    "version": 3
   },
   "file_extension": ".py",
   "mimetype": "text/x-python",
   "name": "python",
   "nbconvert_exporter": "python",
   "pygments_lexer": "ipython3",
   "version": "3.10.8"
  }
 },
 "nbformat": 4,
 "nbformat_minor": 5
}
