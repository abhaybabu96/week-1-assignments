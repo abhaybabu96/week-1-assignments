{
 "cells": [
  {
   "cell_type": "code",
   "execution_count": 1,
   "id": "0527f66e-9e52-4c28-a8ac-bb0935f62556",
   "metadata": {},
   "outputs": [],
   "source": [
    "# Write a python program to print the first 10 Fibonacci numbers using a while loop."
   ]
  },
  {
   "cell_type": "code",
   "execution_count": null,
   "id": "015d04d7-779f-466b-8850-7a211eb40da3",
   "metadata": {},
   "outputs": [],
   "source": [
    "# take n to define total no. \n",
    "# and create function to find first 10 fibonacci numbers using while loop\n",
    "\n",
    "n = []\n",
    "def fibonaci():\n",
    "    a,b = 0,1\n",
    "    while len(n)<=10\n",
    "        yield a\n",
    "        a,b = b,a+b\n",
    "        n.append(a)\n",
    "list(fibonaci())"
   ]
  },
  {
   "cell_type": "code",
   "execution_count": null,
   "id": "5016d626-e536-4362-b5da-5aca725511ee",
   "metadata": {},
   "outputs": [],
   "source": [
    "# take n to define total no. \n",
    "# and create function to find first 10 fibonacci numbers using while loop\n",
    "\n",
    "n = input(\"Enter the no. how much you want\")\n",
    "def fibonaci():\n",
    "    a,b = 0,1\n",
    "    while a <= int(n):\n",
    "        yield a\n",
    "        a,b = b,a+b\n",
    "list(fibonaci())"
   ]
  },
  {
   "cell_type": "code",
   "execution_count": null,
   "id": "b096f233-4d71-40af-aa03-c395a744f1e7",
   "metadata": {},
   "outputs": [],
   "source": [
    "# take n to define total no. \n",
    "# and create function to find first 10 fibonacci numbers using while loop\n",
    "\n",
    "n = []\n",
    "def fibonaci():\n",
    "    a,b = 0,1\n",
    "    while len(n)<= 10 :\n",
    "        yield a\n",
    "        a,b = b,a+b\n",
    "        n.append(a)\n",
    "list(fibonaci())"
   ]
  },
  {
   "cell_type": "code",
   "execution_count": null,
   "id": "903cdfe0-3564-4f1e-99ee-4d87606715a2",
   "metadata": {},
   "outputs": [],
   "source": []
  }
 ],
 "metadata": {
  "kernelspec": {
   "display_name": "Python 3 (ipykernel)",
   "language": "python",
   "name": "python3"
  },
  "language_info": {
   "codemirror_mode": {
    "name": "ipython",
    "version": 3
   },
   "file_extension": ".py",
   "mimetype": "text/x-python",
   "name": "python",
   "nbconvert_exporter": "python",
   "pygments_lexer": "ipython3",
   "version": "3.10.8"
  }
 },
 "nbformat": 4,
 "nbformat_minor": 5
}
