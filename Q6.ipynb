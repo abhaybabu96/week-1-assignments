{
 "cells": [
  {
   "cell_type": "code",
   "execution_count": 1,
   "id": "27d2773e-fcc9-42a7-a2d4-dcfd12d7060b",
   "metadata": {},
   "outputs": [],
   "source": [
    "# Write a python program to find palindromes in the given list of strings using lambda and filter\n",
    "# function."
   ]
  },
  {
   "cell_type": "code",
   "execution_count": 16,
   "id": "41ac3013-5e90-4373-a937-dd0378352c0b",
   "metadata": {},
   "outputs": [],
   "source": [
    "strings = ['python', 'php', 'aba', 'radar', 'level']"
   ]
  },
  {
   "cell_type": "code",
   "execution_count": 18,
   "id": "3f8906c0-7103-454c-80d6-da27e12b7050",
   "metadata": {},
   "outputs": [
    {
     "name": "stdout",
     "output_type": "stream",
     "text": [
      "Palindromes found in the list:\n",
      "['php', 'aba', 'radar', 'level']\n"
     ]
    }
   ],
   "source": [
    "palindromes = list(filter(lambda x: x == x[::-1], strings))\n",
    "\n",
    "print(\"Palindromes found in the list:\")\n",
    "print(palindromes)\n"
   ]
  },
  {
   "cell_type": "code",
   "execution_count": null,
   "id": "87fda2c9-7b6e-4bc0-ad9d-aad5e992344e",
   "metadata": {},
   "outputs": [],
   "source": []
  }
 ],
 "metadata": {
  "kernelspec": {
   "display_name": "Python 3 (ipykernel)",
   "language": "python",
   "name": "python3"
  },
  "language_info": {
   "codemirror_mode": {
    "name": "ipython",
    "version": 3
   },
   "file_extension": ".py",
   "mimetype": "text/x-python",
   "name": "python",
   "nbconvert_exporter": "python",
   "pygments_lexer": "ipython3",
   "version": "3.10.8"
  }
 },
 "nbformat": 4,
 "nbformat_minor": 5
}
