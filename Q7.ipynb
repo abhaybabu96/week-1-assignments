{
 "cells": [
  {
   "cell_type": "code",
   "execution_count": 1,
   "id": "c4d55cd9-53dd-45a8-a196-cd078df55e52",
   "metadata": {},
   "outputs": [],
   "source": [
    "# What is the correct way to declare a variable named age and assign the value 25 to it?"
   ]
  },
  {
   "cell_type": "code",
   "execution_count": 2,
   "id": "29053ef9-5fe1-4da7-ab72-0161824f8e85",
   "metadata": {},
   "outputs": [],
   "source": [
    "# just create a variable name age. and assing value 25 to it."
   ]
  },
  {
   "cell_type": "code",
   "execution_count": 3,
   "id": "a23ae4b5-42d4-4096-b7ca-284dc6a095e5",
   "metadata": {},
   "outputs": [
    {
     "name": "stdout",
     "output_type": "stream",
     "text": [
      "25\n"
     ]
    },
    {
     "data": {
      "text/plain": [
       "int"
      ]
     },
     "execution_count": 3,
     "metadata": {},
     "output_type": "execute_result"
    }
   ],
   "source": [
    "# Variable declaration \n",
    "age = 25\n",
    "# print the variable and it's value and it's type\n",
    "print(age)\n",
    "type(age)"
   ]
  },
  {
   "cell_type": "code",
   "execution_count": null,
   "id": "6bb6d89c-fe66-4561-8d49-2f58c2e2f597",
   "metadata": {},
   "outputs": [],
   "source": []
  }
 ],
 "metadata": {
  "kernelspec": {
   "display_name": "Python 3 (ipykernel)",
   "language": "python",
   "name": "python3"
  },
  "language_info": {
   "codemirror_mode": {
    "name": "ipython",
    "version": 3
   },
   "file_extension": ".py",
   "mimetype": "text/x-python",
   "name": "python",
   "nbconvert_exporter": "python",
   "pygments_lexer": "ipython3",
   "version": "3.10.8"
  }
 },
 "nbformat": 4,
 "nbformat_minor": 5
}
