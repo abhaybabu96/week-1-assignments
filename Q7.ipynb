{
 "cells": [
  {
   "cell_type": "code",
   "execution_count": 1,
   "id": "3fcfba87-ada9-4f6f-90c3-8657e260b4e7",
   "metadata": {},
   "outputs": [],
   "source": [
    "# Write a List Comprehension to iterate through the given string: ‘pwskills’.\n",
    "# Expected output: ['p', 'w', 's', 'k', 'i', 'l', 'l', 's']"
   ]
  },
  {
   "cell_type": "code",
   "execution_count": 11,
   "id": "86125586-fca1-401e-8e0f-7839ede62de4",
   "metadata": {},
   "outputs": [],
   "source": [
    "string = \"pwskills\""
   ]
  },
  {
   "cell_type": "code",
   "execution_count": 19,
   "id": "a61dcefa-4bc3-4fff-99ea-5a2faf1a404c",
   "metadata": {},
   "outputs": [],
   "source": [
    "output = [i for i in string ]"
   ]
  },
  {
   "cell_type": "code",
   "execution_count": 20,
   "id": "fb81e3c3-b0a2-45bc-993d-44662788cadf",
   "metadata": {},
   "outputs": [
    {
     "name": "stdout",
     "output_type": "stream",
     "text": [
      "['p', 'w', 's', 'k', 'i', 'l', 'l', 's']\n"
     ]
    }
   ],
   "source": [
    "print(output)"
   ]
  },
  {
   "cell_type": "code",
   "execution_count": 21,
   "id": "94c1374b-0a12-4ad7-b5f7-be207c6477bc",
   "metadata": {},
   "outputs": [],
   "source": [
    "# it's used to iterate throw each each element from the string and create the output into list , with making every indivisual character a sting "
   ]
  },
  {
   "cell_type": "code",
   "execution_count": null,
   "id": "a80ceef8-f134-47c7-8ad7-1f2d03166b98",
   "metadata": {},
   "outputs": [],
   "source": []
  }
 ],
 "metadata": {
  "kernelspec": {
   "display_name": "Python 3 (ipykernel)",
   "language": "python",
   "name": "python3"
  },
  "language_info": {
   "codemirror_mode": {
    "name": "ipython",
    "version": 3
   },
   "file_extension": ".py",
   "mimetype": "text/x-python",
   "name": "python",
   "nbconvert_exporter": "python",
   "pygments_lexer": "ipython3",
   "version": "3.10.8"
  }
 },
 "nbformat": 4,
 "nbformat_minor": 5
}
