{
 "cells": [
  {
   "cell_type": "code",
   "execution_count": 1,
   "id": "4b633054-9d44-47d0-9ad8-c1e9ee7aa3b5",
   "metadata": {},
   "outputs": [],
   "source": [
    "# Declare a variable named price and assign the value 9.99 to it. What data type does this variable\n",
    "# belong to?"
   ]
  },
  {
   "cell_type": "code",
   "execution_count": 2,
   "id": "ee27221d-02bc-4446-b4c0-5c46d7f7f3a3",
   "metadata": {},
   "outputs": [
    {
     "name": "stdout",
     "output_type": "stream",
     "text": [
      "9.99\n"
     ]
    },
    {
     "data": {
      "text/plain": [
       "float"
      ]
     },
     "execution_count": 2,
     "metadata": {},
     "output_type": "execute_result"
    }
   ],
   "source": [
    "# variable declaration\n",
    "\n",
    "price = 9.99\n",
    "\n",
    "# print the value of price variable and it's type \n",
    "\n",
    "print(price)\n",
    "type(price)"
   ]
  },
  {
   "cell_type": "code",
   "execution_count": null,
   "id": "dc8c5f24-fe57-48b3-8cf6-e56dc7068db6",
   "metadata": {},
   "outputs": [],
   "source": []
  }
 ],
 "metadata": {
  "kernelspec": {
   "display_name": "Python 3 (ipykernel)",
   "language": "python",
   "name": "python3"
  },
  "language_info": {
   "codemirror_mode": {
    "name": "ipython",
    "version": 3
   },
   "file_extension": ".py",
   "mimetype": "text/x-python",
   "name": "python",
   "nbconvert_exporter": "python",
   "pygments_lexer": "ipython3",
   "version": "3.10.8"
  }
 },
 "nbformat": 4,
 "nbformat_minor": 5
}
