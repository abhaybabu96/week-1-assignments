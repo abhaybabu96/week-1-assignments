{
 "cells": [
  {
   "cell_type": "code",
   "execution_count": null,
   "id": "c45856a9-851a-4ea8-b2e6-eb4f664f67d0",
   "metadata": {},
   "outputs": [],
   "source": [
    "# To find a number is palindrome or not i take help of resaurces"
   ]
  },
  {
   "cell_type": "code",
   "execution_count": 1,
   "id": "794ef30c-192d-4c36-93a9-1ee19626319a",
   "metadata": {},
   "outputs": [
    {
     "name": "stdin",
     "output_type": "stream",
     "text": [
      "Enter a value: 515\n"
     ]
    },
    {
     "name": "stdout",
     "output_type": "stream",
     "text": [
      "This value is a palindrome number!\n"
     ]
    }
   ],
   "source": [
    "num = int(input(\"Enter a value:\"))\n",
    "temp = num\n",
    "rev = 0\n",
    "\n",
    "while num > 0:\n",
    "    dig = num % 10\n",
    "    rev = rev * 10 + dig\n",
    "    num = num // 10\n",
    "\n",
    "if temp == rev:\n",
    "    print(\"This value is a palindrome number!\")\n",
    "else:\n",
    "    print(\"This value is not a palindrome number!\")"
   ]
  },
  {
   "cell_type": "code",
   "execution_count": null,
   "id": "b056a6ef-adf4-4a93-a3da-bdd5403ea70c",
   "metadata": {},
   "outputs": [],
   "source": []
  }
 ],
 "metadata": {
  "kernelspec": {
   "display_name": "Python 3 (ipykernel)",
   "language": "python",
   "name": "python3"
  },
  "language_info": {
   "codemirror_mode": {
    "name": "ipython",
    "version": 3
   },
   "file_extension": ".py",
   "mimetype": "text/x-python",
   "name": "python",
   "nbconvert_exporter": "python",
   "pygments_lexer": "ipython3",
   "version": "3.10.8"
  }
 },
 "nbformat": 4,
 "nbformat_minor": 5
}
